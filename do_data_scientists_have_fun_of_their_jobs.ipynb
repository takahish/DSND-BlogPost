{
 "cells": [
  {
   "cell_type": "markdown",
   "metadata": {},
   "source": [
    "# Do data scientist have fun of their jobs?\n",
    "\n",
    "Recently it is said data scientist is important for data-driven company management. A word of 'Data Scientist' itself is attracting the most attention now, but as a matter of fact, is data scientist increased? Do they satisfy with their jobs? or How much salary do they earn? I have mined data to answer the questions."
   ]
  },
  {
   "cell_type": "code",
   "execution_count": 1,
   "metadata": {},
   "outputs": [],
   "source": [
    "# import libraries here; add more as necessary\n",
    "import numpy as np\n",
    "import pandas as pd\n",
    "import matplotlib.pyplot as plt\n",
    "import seaborn as sns\n",
    "from scipy import stats\n",
    "\n",
    "# magic word for producing visualizations in notebook\n",
    "%matplotlib inline"
   ]
  },
  {
   "cell_type": "markdown",
   "metadata": {},
   "source": [
    "## Business understanding\n",
    "\n",
    "### Key Questions\n",
    "\n",
    "1. How data scientist proportion increased from 2017 to 2018.\n",
    "2. How is data scientist job satisfaction increased from 2017 to 2018.\n",
    "3. How is data scientist annual salary increased from 2017 to 2018."
   ]
  },
  {
   "cell_type": "markdown",
   "metadata": {},
   "source": [
    "## Data understanding\n",
    "\n",
    "I used [Stack Overflow Annual Developer Survey](https://insights.stackoverflow.com/survey), in paticuler for looking trend of data scientist, [2018 Survey Results](https://insights.stackoverflow.com/survey/2018) and [2017 Survey Results](https://insights.stackoverflow.com/survey/2017).\n",
    "\n",
    "#### Orverview\n",
    "- 2018: Total developer answering is 98,855, A number of question is 129.\n",
    "- 2017: Total developer ansering is 51,392, A number of question is 154.\n",
    "\n",
    "#### Note\n",
    "- Database administrator is regarded as a control group.\n",
    "    - Database administrator is related data as the same as data scientist\n",
    "    - it compares values between two groups.\n",
    "- Variables are selected to answer the key questions.\n",
    "    - 2018: DevType, JobSatisfaction, Salary, SalaryType\n",
    "    - 2017: DeveloperType, JobSatisfaction, Salary"
   ]
  },
  {
   "cell_type": "code",
   "execution_count": 2,
   "metadata": {},
   "outputs": [],
   "source": [
    "# loading data as np.object.\n",
    "df_2018_schema = pd.read_csv('data/developer_survey_2018/survey_results_schema.csv', dtype=np.object)\n",
    "df_2018 = pd.read_csv('data/developer_survey_2018/survey_results_public.csv', dtype=np.object)"
   ]
  },
  {
   "cell_type": "code",
   "execution_count": 3,
   "metadata": {},
   "outputs": [
    {
     "name": "stdout",
     "output_type": "stream",
     "text": [
      "Year 2018, Total developer answering: 98855, a number of question: 129\n"
     ]
    }
   ],
   "source": [
    "print(\"Year 2018, Total developer answering: {}, a number of question: {}\".format(df_2018.shape[0], df_2018.shape[1]))"
   ]
  },
  {
   "cell_type": "code",
   "execution_count": 4,
   "metadata": {},
   "outputs": [
    {
     "data": {
      "text/html": [
       "<div>\n",
       "<style scoped>\n",
       "    .dataframe tbody tr th:only-of-type {\n",
       "        vertical-align: middle;\n",
       "    }\n",
       "\n",
       "    .dataframe tbody tr th {\n",
       "        vertical-align: top;\n",
       "    }\n",
       "\n",
       "    .dataframe thead th {\n",
       "        text-align: right;\n",
       "    }\n",
       "</style>\n",
       "<table border=\"1\" class=\"dataframe\">\n",
       "  <thead>\n",
       "    <tr style=\"text-align: right;\">\n",
       "      <th></th>\n",
       "      <th>Column</th>\n",
       "      <th>QuestionText</th>\n",
       "    </tr>\n",
       "  </thead>\n",
       "  <tbody>\n",
       "    <tr>\n",
       "      <th>9</th>\n",
       "      <td>DevType</td>\n",
       "      <td>Which of the following describe you? Please se...</td>\n",
       "    </tr>\n",
       "    <tr>\n",
       "      <th>12</th>\n",
       "      <td>JobSatisfaction</td>\n",
       "      <td>How satisfied are you with your current job? I...</td>\n",
       "    </tr>\n",
       "    <tr>\n",
       "      <th>52</th>\n",
       "      <td>Salary</td>\n",
       "      <td>What is your current gross salary (before taxe...</td>\n",
       "    </tr>\n",
       "    <tr>\n",
       "      <th>53</th>\n",
       "      <td>SalaryType</td>\n",
       "      <td>Is that salary weekly, monthly, or yearly?</td>\n",
       "    </tr>\n",
       "  </tbody>\n",
       "</table>\n",
       "</div>"
      ],
      "text/plain": [
       "             Column                                       QuestionText\n",
       "9           DevType  Which of the following describe you? Please se...\n",
       "12  JobSatisfaction  How satisfied are you with your current job? I...\n",
       "52           Salary  What is your current gross salary (before taxe...\n",
       "53       SalaryType         Is that salary weekly, monthly, or yearly?"
      ]
     },
     "execution_count": 4,
     "metadata": {},
     "output_type": "execute_result"
    }
   ],
   "source": [
    "# To answer key questions, these columns is used.\n",
    "df_2018_schema[(df_2018_schema['Column'] == 'DevType') | (df_2018_schema['Column'] == 'JobSatisfaction') | (df_2018_schema['Column'] == 'Salary') | (df_2018_schema['Column'] == 'SalaryType')]"
   ]
  },
  {
   "cell_type": "code",
   "execution_count": 5,
   "metadata": {},
   "outputs": [],
   "source": [
    "# loading data as np.object.\n",
    "df_2017_schema = pd.read_csv('data/developer_survey_2017/survey_results_schema.csv', dtype=np.object)\n",
    "df_2017 = pd.read_csv('data/developer_survey_2017/survey_results_public.csv', dtype=np.object)"
   ]
  },
  {
   "cell_type": "code",
   "execution_count": 6,
   "metadata": {
    "scrolled": true
   },
   "outputs": [
    {
     "name": "stdout",
     "output_type": "stream",
     "text": [
      "Year 2017, Total developer answering: 51392, a number of question: 154\n"
     ]
    }
   ],
   "source": [
    "print(\"Year 2017, Total developer answering: {}, a number of question: {}\".format(df_2017.shape[0], df_2017.shape[1]))"
   ]
  },
  {
   "cell_type": "code",
   "execution_count": 7,
   "metadata": {},
   "outputs": [
    {
     "data": {
      "text/html": [
       "<div>\n",
       "<style scoped>\n",
       "    .dataframe tbody tr th:only-of-type {\n",
       "        vertical-align: middle;\n",
       "    }\n",
       "\n",
       "    .dataframe tbody tr th {\n",
       "        vertical-align: top;\n",
       "    }\n",
       "\n",
       "    .dataframe thead th {\n",
       "        text-align: right;\n",
       "    }\n",
       "</style>\n",
       "<table border=\"1\" class=\"dataframe\">\n",
       "  <thead>\n",
       "    <tr style=\"text-align: right;\">\n",
       "      <th></th>\n",
       "      <th>Column</th>\n",
       "      <th>Question</th>\n",
       "    </tr>\n",
       "  </thead>\n",
       "  <tbody>\n",
       "    <tr>\n",
       "      <th>14</th>\n",
       "      <td>DeveloperType</td>\n",
       "      <td>Which of the following best describe you?</td>\n",
       "    </tr>\n",
       "    <tr>\n",
       "      <th>19</th>\n",
       "      <td>JobSatisfaction</td>\n",
       "      <td>Job satisfaction rating</td>\n",
       "    </tr>\n",
       "    <tr>\n",
       "      <th>152</th>\n",
       "      <td>Salary</td>\n",
       "      <td>What is your current annual base salary, befor...</td>\n",
       "    </tr>\n",
       "  </tbody>\n",
       "</table>\n",
       "</div>"
      ],
      "text/plain": [
       "              Column                                           Question\n",
       "14     DeveloperType          Which of the following best describe you?\n",
       "19   JobSatisfaction                            Job satisfaction rating\n",
       "152           Salary  What is your current annual base salary, befor..."
      ]
     },
     "execution_count": 7,
     "metadata": {},
     "output_type": "execute_result"
    }
   ],
   "source": [
    "# To answer key questions, these columns is used.\n",
    "df_2017_schema[(df_2017_schema['Column'] == 'DeveloperType') | (df_2017_schema['Column'] == 'JobSatisfaction') | (df_2017_schema['Column'] == 'Salary')]"
   ]
  },
  {
   "cell_type": "markdown",
   "metadata": {},
   "source": [
    "## Data Preparation\n",
    "\n",
    "Loading and preparing data."
   ]
  },
  {
   "cell_type": "markdown",
   "metadata": {},
   "source": [
    "### Data preparation for 2018 survey results"
   ]
  },
  {
   "cell_type": "code",
   "execution_count": 8,
   "metadata": {
    "scrolled": true
   },
   "outputs": [
    {
     "data": {
      "text/html": [
       "<div>\n",
       "<style scoped>\n",
       "    .dataframe tbody tr th:only-of-type {\n",
       "        vertical-align: middle;\n",
       "    }\n",
       "\n",
       "    .dataframe tbody tr th {\n",
       "        vertical-align: top;\n",
       "    }\n",
       "\n",
       "    .dataframe thead th {\n",
       "        text-align: right;\n",
       "    }\n",
       "</style>\n",
       "<table border=\"1\" class=\"dataframe\">\n",
       "  <thead>\n",
       "    <tr style=\"text-align: right;\">\n",
       "      <th></th>\n",
       "      <th>DevType</th>\n",
       "      <th>JobSatisfaction</th>\n",
       "      <th>Salary</th>\n",
       "      <th>SalaryType</th>\n",
       "      <th>EducationTypes</th>\n",
       "    </tr>\n",
       "  </thead>\n",
       "  <tbody>\n",
       "    <tr>\n",
       "      <th>0</th>\n",
       "      <td>Full-stack developer</td>\n",
       "      <td>Extremely satisfied</td>\n",
       "      <td>NaN</td>\n",
       "      <td>Monthly</td>\n",
       "      <td>Taught yourself a new language, framework, or ...</td>\n",
       "    </tr>\n",
       "    <tr>\n",
       "      <th>1</th>\n",
       "      <td>Database administrator;DevOps specialist;Full-...</td>\n",
       "      <td>Moderately dissatisfied</td>\n",
       "      <td>51000</td>\n",
       "      <td>Yearly</td>\n",
       "      <td>Taught yourself a new language, framework, or ...</td>\n",
       "    </tr>\n",
       "    <tr>\n",
       "      <th>2</th>\n",
       "      <td>Engineering manager;Full-stack developer</td>\n",
       "      <td>Moderately satisfied</td>\n",
       "      <td>NaN</td>\n",
       "      <td>NaN</td>\n",
       "      <td>NaN</td>\n",
       "    </tr>\n",
       "    <tr>\n",
       "      <th>3</th>\n",
       "      <td>Full-stack developer</td>\n",
       "      <td>Neither satisfied nor dissatisfied</td>\n",
       "      <td>NaN</td>\n",
       "      <td>NaN</td>\n",
       "      <td>Completed an industry certification program (e...</td>\n",
       "    </tr>\n",
       "    <tr>\n",
       "      <th>4</th>\n",
       "      <td>Data or business analyst;Desktop or enterprise...</td>\n",
       "      <td>Slightly satisfied</td>\n",
       "      <td>260000</td>\n",
       "      <td>Yearly</td>\n",
       "      <td>Taken a part-time in-person course in programm...</td>\n",
       "    </tr>\n",
       "  </tbody>\n",
       "</table>\n",
       "</div>"
      ],
      "text/plain": [
       "                                             DevType  \\\n",
       "0                               Full-stack developer   \n",
       "1  Database administrator;DevOps specialist;Full-...   \n",
       "2           Engineering manager;Full-stack developer   \n",
       "3                               Full-stack developer   \n",
       "4  Data or business analyst;Desktop or enterprise...   \n",
       "\n",
       "                      JobSatisfaction  Salary SalaryType  \\\n",
       "0                 Extremely satisfied     NaN    Monthly   \n",
       "1             Moderately dissatisfied   51000     Yearly   \n",
       "2                Moderately satisfied     NaN        NaN   \n",
       "3  Neither satisfied nor dissatisfied     NaN        NaN   \n",
       "4                  Slightly satisfied  260000     Yearly   \n",
       "\n",
       "                                      EducationTypes  \n",
       "0  Taught yourself a new language, framework, or ...  \n",
       "1  Taught yourself a new language, framework, or ...  \n",
       "2                                                NaN  \n",
       "3  Completed an industry certification program (e...  \n",
       "4  Taken a part-time in-person course in programm...  "
      ]
     },
     "execution_count": 8,
     "metadata": {},
     "output_type": "execute_result"
    }
   ],
   "source": [
    "# Replace data frame that have required columns to answer the questions\n",
    "df_2018 = df_2018[['DevType', 'JobSatisfaction', 'Salary', 'SalaryType', 'EducationTypes']]\n",
    "df_2018.head()"
   ]
  },
  {
   "cell_type": "code",
   "execution_count": 9,
   "metadata": {},
   "outputs": [
    {
     "data": {
      "image/png": "[encoded data removed]",
      "text/plain": [
       "<Figure size 432x288 with 1 Axes>"
      ]
     },
     "metadata": {},
     "output_type": "display_data"
    }
   ],
   "source": [
    "# Check a missing values\n",
    "(df_2018.isnull().sum() / df_2018.shape[0]).sort_values().plot.barh(cmap='tab20')\n",
    "plt.title('Proportion of a number of column missing values')\n",
    "plt.xlabel('Proportion')\n",
    "plt.ylabel('Column')\n",
    "plt.show()"
   ]
  },
  {
   "cell_type": "code",
   "execution_count": 10,
   "metadata": {},
   "outputs": [
    {
     "data": {
      "image/png": "[encoded data removed]",
      "text/plain": [
       "<Figure size 432x288 with 1 Axes>"
      ]
     },
     "metadata": {},
     "output_type": "display_data"
    }
   ],
   "source": [
    "df_2018.isnull().sum(axis=1).hist(bins=5)\n",
    "plt.title('Histgram of a number of row missing values')\n",
    "plt.xlabel('A number of missing values')\n",
    "plt.ylabel('Frequency')\n",
    "plt.show()"
   ]
  },
  {
   "cell_type": "code",
   "execution_count": 11,
   "metadata": {},
   "outputs": [],
   "source": [
    "# Remove rows that have 4 or 5 missing values.\n",
    "df_2018 = df_2018[df_2018.isnull().sum(axis=1) <= 3]"
   ]
  },
  {
   "cell_type": "code",
   "execution_count": 12,
   "metadata": {},
   "outputs": [],
   "source": [
    "# JobSatisfaction\n",
    "# \n",
    "# Replace answer of string into integer that have average 0.5.\n",
    "#\n",
    "# First, replace string into integer\n",
    "#     Extremely dissatisfied -> 0\n",
    "#     Moderately dissatisfied -> 1\n",
    "#     Slightly dissatisfied -> 2\n",
    "#     Neither satisfied nor dissatisfied -> 3\n",
    "#     Slightly satisfied -> 4\n",
    "#     Moderately satisfied -> 5\n",
    "#     Extremely satisfied\n",
    "#\n",
    "# Second, apply min-max scalering.\n",
    "#     {JobSatisfaction} / (6 - 0)\n",
    "\n",
    "df_2018['JobSatisfaction'] = df_2018['JobSatisfaction'].replace({\n",
    "    'Extremely dissatisfied': 0,\n",
    "    'Moderately dissatisfied': 1,\n",
    "    'Slightly dissatisfied': 2,\n",
    "    'Neither satisfied nor dissatisfied': 3,\n",
    "    'Slightly satisfied': 4,\n",
    "    'Moderately satisfied': 5,\n",
    "    'Extremely satisfied': 6\n",
    "}) / (6. - 0.)"
   ]
  },
  {
   "cell_type": "code",
   "execution_count": 13,
   "metadata": {},
   "outputs": [],
   "source": [
    "# Convert salary to discuss by annual salary\n",
    "#\n",
    "# if SalaryType is Monthly then Salary * 12\n",
    "# if Salarytype is Weekly then Salary * 4 * 12\n",
    "\n",
    "converted_salary = []\n",
    "for salary, salary_type in zip(df_2018['Salary'].values, df_2018['SalaryType'].values):\n",
    "    salary = np.float(np.str(salary).replace(',', ''))\n",
    "\n",
    "    if salary_type == 'Monthly' or salary_type == 'Weekly':\n",
    "        salary = np.nan\n",
    "\n",
    "    converted_salary.append(salary)\n",
    "\n",
    "df_2018['Salary'] = pd.Series(converted_salary)\n",
    "df_2018.drop('SalaryType', axis=1, inplace=True)"
   ]
  },
  {
   "cell_type": "code",
   "execution_count": 14,
   "metadata": {},
   "outputs": [
    {
     "data": {
      "image/png": "[encoded data removed]",
      "text/plain": [
       "<Figure size 432x288 with 1 Axes>"
      ]
     },
     "metadata": {},
     "output_type": "display_data"
    }
   ],
   "source": [
    "# Check box plot\n",
    "df_2018['Salary'].plot(kind='box')\n",
    "plt.show()"
   ]
  },
  {
   "cell_type": "code",
   "execution_count": 15,
   "metadata": {},
   "outputs": [],
   "source": [
    "# Remove outlier\n",
    "#\n",
    "# Outline:\n",
    "#     1. Convert value to log\n",
    "#     2. Remove outlier by using IRQ\n",
    "\n",
    "df_2018_salary_log = np.log(df_2018['Salary'] + 1.)\n",
    "\n",
    "q1 = df_2018_salary_log.describe()['25%']\n",
    "q2 = df_2018_salary_log.describe()['50%']\n",
    "q3 = df_2018_salary_log.describe()['75%']\n",
    "\n",
    "irq = q3 - q1\n",
    "\n",
    "converted_salary = []\n",
    "for salary, log_salary in zip(df_2018['Salary'].values, df_2018_salary_log.values):\n",
    "    if log_salary < q2 - 1.5 * irq:\n",
    "        converted_salary.append(np.nan)\n",
    "    elif log_salary > q2 + 1.5 * irq:\n",
    "        converted_salary.append(np.nan)\n",
    "    else:\n",
    "        converted_salary.append(salary)\n",
    "\n",
    "df_2018['Salary'] = pd.Series(converted_salary)"
   ]
  },
  {
   "cell_type": "code",
   "execution_count": 16,
   "metadata": {},
   "outputs": [
    {
     "data": {
      "text/html": [
       "<div>\n",
       "<style scoped>\n",
       "    .dataframe tbody tr th:only-of-type {\n",
       "        vertical-align: middle;\n",
       "    }\n",
       "\n",
       "    .dataframe tbody tr th {\n",
       "        vertical-align: top;\n",
       "    }\n",
       "\n",
       "    .dataframe thead th {\n",
       "        text-align: right;\n",
       "    }\n",
       "</style>\n",
       "<table border=\"1\" class=\"dataframe\">\n",
       "  <thead>\n",
       "    <tr style=\"text-align: right;\">\n",
       "      <th></th>\n",
       "      <th>DevType</th>\n",
       "      <th>JobSatisfaction</th>\n",
       "      <th>Salary</th>\n",
       "      <th>EducationTypes</th>\n",
       "    </tr>\n",
       "  </thead>\n",
       "  <tbody>\n",
       "    <tr>\n",
       "      <th>0</th>\n",
       "      <td>Full-stack developer</td>\n",
       "      <td>1.000000</td>\n",
       "      <td>NaN</td>\n",
       "      <td>Taught yourself a new language, framework, or ...</td>\n",
       "    </tr>\n",
       "    <tr>\n",
       "      <th>1</th>\n",
       "      <td>Database administrator;DevOps specialist;Full-...</td>\n",
       "      <td>0.166667</td>\n",
       "      <td>51000.0</td>\n",
       "      <td>Taught yourself a new language, framework, or ...</td>\n",
       "    </tr>\n",
       "    <tr>\n",
       "      <th>2</th>\n",
       "      <td>Engineering manager;Full-stack developer</td>\n",
       "      <td>0.833333</td>\n",
       "      <td>NaN</td>\n",
       "      <td>NaN</td>\n",
       "    </tr>\n",
       "    <tr>\n",
       "      <th>3</th>\n",
       "      <td>Full-stack developer</td>\n",
       "      <td>0.500000</td>\n",
       "      <td>NaN</td>\n",
       "      <td>Completed an industry certification program (e...</td>\n",
       "    </tr>\n",
       "    <tr>\n",
       "      <th>4</th>\n",
       "      <td>Data or business analyst;Desktop or enterprise...</td>\n",
       "      <td>0.666667</td>\n",
       "      <td>260000.0</td>\n",
       "      <td>Taken a part-time in-person course in programm...</td>\n",
       "    </tr>\n",
       "  </tbody>\n",
       "</table>\n",
       "</div>"
      ],
      "text/plain": [
       "                                             DevType  JobSatisfaction  \\\n",
       "0                               Full-stack developer         1.000000   \n",
       "1  Database administrator;DevOps specialist;Full-...         0.166667   \n",
       "2           Engineering manager;Full-stack developer         0.833333   \n",
       "3                               Full-stack developer         0.500000   \n",
       "4  Data or business analyst;Desktop or enterprise...         0.666667   \n",
       "\n",
       "     Salary                                     EducationTypes  \n",
       "0       NaN  Taught yourself a new language, framework, or ...  \n",
       "1   51000.0  Taught yourself a new language, framework, or ...  \n",
       "2       NaN                                                NaN  \n",
       "3       NaN  Completed an industry certification program (e...  \n",
       "4  260000.0  Taken a part-time in-person course in programm...  "
      ]
     },
     "execution_count": 16,
     "metadata": {},
     "output_type": "execute_result"
    }
   ],
   "source": [
    "df_2018.head()"
   ]
  },
  {
   "cell_type": "code",
   "execution_count": 17,
   "metadata": {},
   "outputs": [
    {
     "data": {
      "text/plain": [
       "(78650, 4)"
      ]
     },
     "execution_count": 17,
     "metadata": {},
     "output_type": "execute_result"
    }
   ],
   "source": [
    "df_2018.shape"
   ]
  },
  {
   "cell_type": "markdown",
   "metadata": {},
   "source": [
    "### Data preparation for 2017 survey results"
   ]
  },
  {
   "cell_type": "code",
   "execution_count": 18,
   "metadata": {},
   "outputs": [
    {
     "data": {
      "text/html": [
       "<div>\n",
       "<style scoped>\n",
       "    .dataframe tbody tr th:only-of-type {\n",
       "        vertical-align: middle;\n",
       "    }\n",
       "\n",
       "    .dataframe tbody tr th {\n",
       "        vertical-align: top;\n",
       "    }\n",
       "\n",
       "    .dataframe thead th {\n",
       "        text-align: right;\n",
       "    }\n",
       "</style>\n",
       "<table border=\"1\" class=\"dataframe\">\n",
       "  <thead>\n",
       "    <tr style=\"text-align: right;\">\n",
       "      <th></th>\n",
       "      <th>DeveloperType</th>\n",
       "      <th>JobSatisfaction</th>\n",
       "      <th>Salary</th>\n",
       "      <th>EducationTypes</th>\n",
       "    </tr>\n",
       "  </thead>\n",
       "  <tbody>\n",
       "    <tr>\n",
       "      <th>0</th>\n",
       "      <td>NaN</td>\n",
       "      <td>NaN</td>\n",
       "      <td>NaN</td>\n",
       "      <td>Online course; Open source contributions</td>\n",
       "    </tr>\n",
       "    <tr>\n",
       "      <th>1</th>\n",
       "      <td>NaN</td>\n",
       "      <td>NaN</td>\n",
       "      <td>NaN</td>\n",
       "      <td>Online course; Self-taught; Hackathon; Open so...</td>\n",
       "    </tr>\n",
       "    <tr>\n",
       "      <th>2</th>\n",
       "      <td>Other</td>\n",
       "      <td>9</td>\n",
       "      <td>113750</td>\n",
       "      <td>Self-taught; Coding competition; Hackathon; Op...</td>\n",
       "    </tr>\n",
       "    <tr>\n",
       "      <th>3</th>\n",
       "      <td>NaN</td>\n",
       "      <td>3</td>\n",
       "      <td>NaN</td>\n",
       "      <td>NaN</td>\n",
       "    </tr>\n",
       "    <tr>\n",
       "      <th>4</th>\n",
       "      <td>Mobile developer; Graphics programming; Deskto...</td>\n",
       "      <td>8</td>\n",
       "      <td>NaN</td>\n",
       "      <td>NaN</td>\n",
       "    </tr>\n",
       "  </tbody>\n",
       "</table>\n",
       "</div>"
      ],
      "text/plain": [
       "                                       DeveloperType JobSatisfaction  Salary  \\\n",
       "0                                                NaN             NaN     NaN   \n",
       "1                                                NaN             NaN     NaN   \n",
       "2                                              Other               9  113750   \n",
       "3                                                NaN               3     NaN   \n",
       "4  Mobile developer; Graphics programming; Deskto...               8     NaN   \n",
       "\n",
       "                                      EducationTypes  \n",
       "0           Online course; Open source contributions  \n",
       "1  Online course; Self-taught; Hackathon; Open so...  \n",
       "2  Self-taught; Coding competition; Hackathon; Op...  \n",
       "3                                                NaN  \n",
       "4                                                NaN  "
      ]
     },
     "execution_count": 18,
     "metadata": {},
     "output_type": "execute_result"
    }
   ],
   "source": [
    "# Replace data frame that have required columns to answer the questions\n",
    "df_2017 = df_2017[['DeveloperType', 'JobSatisfaction', 'Salary', 'EducationTypes']]\n",
    "df_2017.head()"
   ]
  },
  {
   "cell_type": "code",
   "execution_count": 19,
   "metadata": {},
   "outputs": [
    {
     "data": {
      "image/png": "[encoded data removed]",
      "text/plain": [
       "<Figure size 432x288 with 1 Axes>"
      ]
     },
     "metadata": {},
     "output_type": "display_data"
    }
   ],
   "source": [
    "# Check a missing values\n",
    "(df_2017.isnull().sum() / df_2017.shape[0]).sort_values().plot.barh(cmap='tab20')\n",
    "plt.title('Proportion of a number of missing values')\n",
    "plt.xlabel('Proportion')\n",
    "plt.ylabel('Column')\n",
    "plt.show()"
   ]
  },
  {
   "cell_type": "code",
   "execution_count": 20,
   "metadata": {},
   "outputs": [
    {
     "data": {
      "image/png": "[encoded data removed]",
      "text/plain": [
       "<Figure size 432x288 with 1 Axes>"
      ]
     },
     "metadata": {},
     "output_type": "display_data"
    }
   ],
   "source": [
    "df_2017.isnull().sum(axis=1).hist(bins=4)\n",
    "plt.title('Histgram of a number of row missing values')\n",
    "plt.xlabel('A number of missing values')\n",
    "plt.ylabel('Frequency')\n",
    "plt.show()"
   ]
  },
  {
   "cell_type": "code",
   "execution_count": 21,
   "metadata": {},
   "outputs": [],
   "source": [
    "# Remove rows that have 4 missing values.\n",
    "df_2018 = df_2018[df_2018.isnull().sum(axis=1) <= 3]"
   ]
  },
  {
   "cell_type": "code",
   "execution_count": 22,
   "metadata": {},
   "outputs": [],
   "source": [
    "# JobSatisfaction\n",
    "# \n",
    "# Replace answer of string into integer that have average 0.5.\n",
    "#\n",
    "# Apply min-max scalering.\n",
    "#     {JobSatisfaction} / (10. - 0.)\n",
    "df_2017['JobSatisfaction'] = df_2017['JobSatisfaction'].astype(float) / (10. - 0.)"
   ]
  },
  {
   "cell_type": "code",
   "execution_count": 23,
   "metadata": {},
   "outputs": [],
   "source": [
    "converted_salary = []\n",
    "for salary in df_2017['Salary'].values:\n",
    "    salary = np.float(np.str(salary).replace(',', ''))\n",
    "    converted_salary.append(salary)\n",
    "    \n",
    "df_2017['Salary'] = pd.Series(converted_salary)"
   ]
  },
  {
   "cell_type": "code",
   "execution_count": 24,
   "metadata": {},
   "outputs": [
    {
     "data": {
      "image/png": "[encoded data removed]",
      "text/plain": [
       "<Figure size 432x288 with 1 Axes>"
      ]
     },
     "metadata": {},
     "output_type": "display_data"
    }
   ],
   "source": [
    "# Check box plot\n",
    "df_2017['Salary'].plot(kind='box')\n",
    "plt.show()"
   ]
  },
  {
   "cell_type": "code",
   "execution_count": 25,
   "metadata": {},
   "outputs": [],
   "source": [
    "# Remove outlier\n",
    "#\n",
    "# Outline:\n",
    "#     1. Convert value to log\n",
    "#     2. Remove outlier by using IRQ\n",
    "\n",
    "df_2017_salary_log = np.log(df_2017['Salary'] + 1.)\n",
    "\n",
    "q1 = df_2017_salary_log.describe()['25%']\n",
    "q2 = df_2017_salary_log.describe()['50%']\n",
    "q3 = df_2017_salary_log.describe()['75%']\n",
    "\n",
    "irq = q3 - q1\n",
    "\n",
    "converted_salary = []\n",
    "for salary, log_salary in zip(df_2017['Salary'].values, df_2017_salary_log.values):\n",
    "    if log_salary < q2 - 1.5 * irq:\n",
    "        converted_salary.append(np.nan)\n",
    "    elif log_salary > q2 + 1.5 * irq:\n",
    "        converted_salary.append(np.nan)\n",
    "    else:\n",
    "        converted_salary.append(salary)\n",
    "\n",
    "df_2017['Salary'] = pd.Series(converted_salary)"
   ]
  },
  {
   "cell_type": "code",
   "execution_count": 26,
   "metadata": {},
   "outputs": [
    {
     "data": {
      "text/html": [
       "<div>\n",
       "<style scoped>\n",
       "    .dataframe tbody tr th:only-of-type {\n",
       "        vertical-align: middle;\n",
       "    }\n",
       "\n",
       "    .dataframe tbody tr th {\n",
       "        vertical-align: top;\n",
       "    }\n",
       "\n",
       "    .dataframe thead th {\n",
       "        text-align: right;\n",
       "    }\n",
       "</style>\n",
       "<table border=\"1\" class=\"dataframe\">\n",
       "  <thead>\n",
       "    <tr style=\"text-align: right;\">\n",
       "      <th></th>\n",
       "      <th>DeveloperType</th>\n",
       "      <th>JobSatisfaction</th>\n",
       "      <th>Salary</th>\n",
       "      <th>EducationTypes</th>\n",
       "    </tr>\n",
       "  </thead>\n",
       "  <tbody>\n",
       "    <tr>\n",
       "      <th>0</th>\n",
       "      <td>NaN</td>\n",
       "      <td>NaN</td>\n",
       "      <td>NaN</td>\n",
       "      <td>Online course; Open source contributions</td>\n",
       "    </tr>\n",
       "    <tr>\n",
       "      <th>1</th>\n",
       "      <td>NaN</td>\n",
       "      <td>NaN</td>\n",
       "      <td>NaN</td>\n",
       "      <td>Online course; Self-taught; Hackathon; Open so...</td>\n",
       "    </tr>\n",
       "    <tr>\n",
       "      <th>2</th>\n",
       "      <td>Other</td>\n",
       "      <td>0.9</td>\n",
       "      <td>113750.0</td>\n",
       "      <td>Self-taught; Coding competition; Hackathon; Op...</td>\n",
       "    </tr>\n",
       "    <tr>\n",
       "      <th>3</th>\n",
       "      <td>NaN</td>\n",
       "      <td>0.3</td>\n",
       "      <td>NaN</td>\n",
       "      <td>NaN</td>\n",
       "    </tr>\n",
       "    <tr>\n",
       "      <th>4</th>\n",
       "      <td>Mobile developer; Graphics programming; Deskto...</td>\n",
       "      <td>0.8</td>\n",
       "      <td>NaN</td>\n",
       "      <td>NaN</td>\n",
       "    </tr>\n",
       "  </tbody>\n",
       "</table>\n",
       "</div>"
      ],
      "text/plain": [
       "                                       DeveloperType  JobSatisfaction  \\\n",
       "0                                                NaN              NaN   \n",
       "1                                                NaN              NaN   \n",
       "2                                              Other              0.9   \n",
       "3                                                NaN              0.3   \n",
       "4  Mobile developer; Graphics programming; Deskto...              0.8   \n",
       "\n",
       "     Salary                                     EducationTypes  \n",
       "0       NaN           Online course; Open source contributions  \n",
       "1       NaN  Online course; Self-taught; Hackathon; Open so...  \n",
       "2  113750.0  Self-taught; Coding competition; Hackathon; Op...  \n",
       "3       NaN                                                NaN  \n",
       "4       NaN                                                NaN  "
      ]
     },
     "execution_count": 26,
     "metadata": {},
     "output_type": "execute_result"
    }
   ],
   "source": [
    "df_2017.head()"
   ]
  },
  {
   "cell_type": "code",
   "execution_count": 27,
   "metadata": {},
   "outputs": [
    {
     "data": {
      "text/plain": [
       "(51392, 4)"
      ]
     },
     "execution_count": 27,
     "metadata": {},
     "output_type": "execute_result"
    }
   ],
   "source": [
    "df_2017.shape"
   ]
  },
  {
   "cell_type": "markdown",
   "metadata": {},
   "source": [
    "## Evaluation"
   ]
  },
  {
   "cell_type": "markdown",
   "metadata": {},
   "source": [
    "### Answer 1: How are data scientist increased from 2017 to 2018?\n",
    "\n",
    "Data Scientist proportion is increased from 2017 to 2018.\n",
    "- Proportion: 2017 has 7.0 %, 2018 has 7.8 %\n",
    "- Difference of proportion from 2017 to 2018: +0.8 %\n",
    "\n",
    "Checking atabase administrator proportion as a comparison.\n",
    "- Proportion: 2017 has 10.1 %, 2018 has 14.5 %\n",
    "- Difference of proportion from 2017 to 2018: +4.4 %\n",
    "\n",
    "Data Scientist is incresed from 2017 to 2018. However, comparing with Database administrator, increase amount is small."
   ]
  },
  {
   "cell_type": "code",
   "execution_count": 28,
   "metadata": {
    "scrolled": false
   },
   "outputs": [
    {
     "name": "stdout",
     "output_type": "stream",
     "text": [
      "Data scientist or machine learning specialist: 6134, account for 7.8 %\n",
      "Database administrator: 11428, account for 14.5 %\n"
     ]
    }
   ],
   "source": [
    "data_scientist_2018 = []\n",
    "database_administrator_2018 = []\n",
    "\n",
    "for answers in df_2018['DevType'].astype(str).str.split(';'):\n",
    "    if 'Data scientist or machine learning specialist' in answers:\n",
    "        data_scientist_2018.append(True)\n",
    "    else:\n",
    "        data_scientist_2018.append(False)\n",
    "\n",
    "    if 'Database administrator' in answers:\n",
    "        database_administrator_2018.append(True)\n",
    "    else:\n",
    "        database_administrator_2018.append(False)\n",
    "\n",
    "print(\"Data scientist or machine learning specialist: {}, account for {:.1f} %\".format(\n",
    "    df_2018[data_scientist_2018].shape[0],\n",
    "    df_2018[data_scientist_2018].shape[0] / df_2018.shape[0] * 100\n",
    "))\n",
    "\n",
    "print(\"Database administrator: {}, account for {:.1f} %\".format(\n",
    "    df_2018[database_administrator_2018].shape[0],\n",
    "    df_2018[database_administrator_2018].shape[0] / df_2018.shape[0] * 100\n",
    "))"
   ]
  },
  {
   "cell_type": "code",
   "execution_count": 29,
   "metadata": {},
   "outputs": [
    {
     "name": "stdout",
     "output_type": "stream",
     "text": [
      "Data scientist or machine learning specialist: 3595, account for 7.0 %\n",
      "Others: 5192, account for 10.1 %\n"
     ]
    }
   ],
   "source": [
    "data_scientist_2017 = []\n",
    "database_administrator_2017 = []\n",
    "\n",
    "for answers in df_2017['DeveloperType'].astype(str).str.split(';'):\n",
    "    answers = [a.strip() for a in answers]\n",
    "    \n",
    "    if 'Data scientist' in answers or 'Machine learning specialist' in answers:\n",
    "        data_scientist_2017.append(True)\n",
    "    else:\n",
    "        data_scientist_2017.append(False)\n",
    "\n",
    "    if 'Database administrator' in answers:\n",
    "        database_administrator_2017.append(True)\n",
    "    else:\n",
    "        database_administrator_2017.append(False)\n",
    "\n",
    "print(\"Data scientist or machine learning specialist: {}, account for {:.1f} %\".format(\n",
    "    df_2017[data_scientist_2017].shape[0],\n",
    "    df_2017[data_scientist_2017].shape[0] / df_2017.shape[0] * 100\n",
    "))\n",
    "\n",
    "print(\"Others: {}, account for {:.1f} %\".format(\n",
    "    df_2017[database_administrator_2017].shape[0],\n",
    "    df_2017[database_administrator_2017].shape[0] / df_2017.shape[0] * 100\n",
    "))"
   ]
  },
  {
   "cell_type": "code",
   "execution_count": 30,
   "metadata": {},
   "outputs": [],
   "source": [
    "proportion = pd.DataFrame({\n",
    "    'Data scientist or Machine learning specialist': [\n",
    "        df_2017[data_scientist_2017].shape[0] / df_2017.shape[0] * 100,\n",
    "        df_2018[data_scientist_2018].shape[0] / df_2018.shape[0] * 100\n",
    "    ],\n",
    "    'Database administrator': [\n",
    "        df_2017[database_administrator_2017].shape[0] / df_2017.shape[0] * 100,\n",
    "        df_2018[database_administrator_2018].shape[0] / df_2018.shape[0] * 100\n",
    "    ]\n",
    "})\n",
    "\n",
    "proportion_diff = pd.DataFrame({\n",
    "    'Difference': [\n",
    "         df_2018[database_administrator_2018].shape[0] / df_2018.shape[0] * 100\n",
    "            -df_2017[database_administrator_2017].shape[0] / df_2017.shape[0] * 100,\n",
    "        df_2018[data_scientist_2018].shape[0] / df_2018.shape[0] * 100\n",
    "            -df_2017[data_scientist_2017].shape[0] / df_2017.shape[0] * 100\n",
    "    ]\n",
    "})\n",
    "\n",
    "proportion.index = ['2017', '2018']\n",
    "proportion_diff.index = ['Database administrator', 'Data scientist\\nor Machine learning specialist']"
   ]
  },
  {
   "cell_type": "code",
   "execution_count": 31,
   "metadata": {},
   "outputs": [
    {
     "data": {
      "image/png": "[encoded data removed]",
      "text/plain": [
       "<Figure size 432x288 with 1 Axes>"
      ]
     },
     "metadata": {},
     "output_type": "display_data"
    }
   ],
   "source": [
    "proportion.plot.bar(stacked=True, cmap='tab20c')\n",
    "plt.legend(loc='lower right', bbox_to_anchor=(1.8, 0.0))\n",
    "plt.title('Change of proportion from 2017 to 2018')\n",
    "plt.xlabel('Survey year')\n",
    "plt.ylabel('Proportion [%]')\n",
    "plt.show()"
   ]
  },
  {
   "cell_type": "code",
   "execution_count": 32,
   "metadata": {
    "scrolled": true
   },
   "outputs": [
    {
     "data": {
      "image/png": "[encoded data removed]",
      "text/plain": [
       "<Figure size 432x288 with 1 Axes>"
      ]
     },
     "metadata": {},
     "output_type": "display_data"
    }
   ],
   "source": [
    "proportion_diff.plot.barh(legend=False, color='grey')\n",
    "plt.title('Difference of proportion from 2017 to 2018')\n",
    "plt.xlabel('Difference [%]')\n",
    "plt.show()"
   ]
  },
  {
   "cell_type": "markdown",
   "metadata": {},
   "source": [
    "### Answer 2: How is data scientist job satisfaction increased from 2017 to 2018?\n",
    "\n",
    "Data Scientist job satisfaction is increased from 2017 to 2018. Note: job satisfaction is scaled from 0.0 (min) to 1.0 (max).\n",
    "- Median of job satisfaction: 2017 has 0.80, 2018 has 0.83\n",
    "- Difference of median of job satisfaction from 2017 to 2018: +0.03\n",
    "\n",
    "Checking for database administrator satisfaction as a comparison.\n",
    "- Median of job satisfaction: 2017 has 0.70, 2018 has 0.83\n",
    "- Difference of median of job satisfaction from 2017 to 2018: +0.13\n",
    "\n",
    "Data Scientist satisfaction is incresed from 2017 to 2018. However, comparing with database administrator, increase amount is small. In particular, data scientist satisfaction was 0.8 at 2017 and database administrator job satisfaction was 0.7 at 2017. But both satisfaction are 0.83 at 2018. So there is no difference about satisfaction between two at 2018."
   ]
  },
  {
   "cell_type": "code",
   "execution_count": 33,
   "metadata": {
    "scrolled": false
   },
   "outputs": [
    {
     "data": {
      "image/png": "[encoded data removed]",
      "text/plain": [
       "<Figure size 576x432 with 2 Axes>"
      ]
     },
     "metadata": {},
     "output_type": "display_data"
    }
   ],
   "source": [
    "plt.figure(figsize=(8, 6))\n",
    "plt.subplots_adjust(hspace=0.3)\n",
    "\n",
    "ax = plt.subplot(2, 1, 1)\n",
    "df_2017[data_scientist_2017]['JobSatisfaction'].hist(bins=6)\n",
    "plt.title('Histgram of job satisfaction at 2017')\n",
    "plt.ylabel('Frequency')\n",
    "\n",
    "plt.subplot(2, 1, 2, sharex=ax)\n",
    "df_2018[data_scientist_2018]['JobSatisfaction'].hist(bins=6)\n",
    "plt.title('Histgram of job satisfaction at 2018')\n",
    "plt.xlabel('Job satisfaction')\n",
    "plt.ylabel('Frequency')\n",
    "\n",
    "plt.show()"
   ]
  },
  {
   "cell_type": "code",
   "execution_count": 34,
   "metadata": {},
   "outputs": [
    {
     "data": {
      "image/png": "[encoded data removed]",
      "text/plain": [
       "<Figure size 576x432 with 2 Axes>"
      ]
     },
     "metadata": {},
     "output_type": "display_data"
    }
   ],
   "source": [
    "plt.figure(figsize=(8, 6))\n",
    "plt.subplots_adjust(hspace=0.3)\n",
    "\n",
    "ax = plt.subplot(2, 1, 1)\n",
    "df_2017[database_administrator_2017]['JobSatisfaction'].hist(bins=6)\n",
    "plt.title('Histgram of job satisfaction at 2017')\n",
    "plt.ylabel('Frequency')\n",
    "\n",
    "plt.subplot(2, 1, 2, sharex=ax)\n",
    "df_2018[database_administrator_2018]['JobSatisfaction'].hist(bins=6)\n",
    "plt.title('Histgram of job satisfaction at 2018')\n",
    "plt.xlabel('Job satisfaction')\n",
    "plt.ylabel('Frequency')\n",
    "\n",
    "plt.show()"
   ]
  },
  {
   "cell_type": "code",
   "execution_count": 35,
   "metadata": {},
   "outputs": [],
   "source": [
    "satisfaction = pd.DataFrame({\n",
    "    'Data scientist or Machine learning specialist': [\n",
    "        df_2017[data_scientist_2017]['JobSatisfaction'].median(),\n",
    "        df_2018[data_scientist_2018]['JobSatisfaction'].median()\n",
    "    ],\n",
    "    'Database administrator': [\n",
    "        df_2017[database_administrator_2017]['JobSatisfaction'].median(),\n",
    "        df_2018[database_administrator_2018]['JobSatisfaction'].median()\n",
    "    ]\n",
    "})\n",
    "\n",
    "satisfaction_diff = pd.DataFrame({\n",
    "    'Difference': [\n",
    "        df_2018[database_administrator_2018]['JobSatisfaction'].median()\n",
    "            - df_2017[database_administrator_2017]['JobSatisfaction'].median(),\n",
    "        df_2018[data_scientist_2018]['JobSatisfaction'].median()\n",
    "            - df_2017[data_scientist_2017]['JobSatisfaction'].median()\n",
    "    ]\n",
    "})\n",
    "\n",
    "satisfaction.index = ['2017', '2018']\n",
    "satisfaction_diff.index = ['Database administrator', 'Data scientist\\nor Machine learning specialist']"
   ]
  },
  {
   "cell_type": "code",
   "execution_count": 36,
   "metadata": {},
   "outputs": [
    {
     "data": {
      "image/png": "[encoded data removed]",
      "text/plain": [
       "<Figure size 432x288 with 1 Axes>"
      ]
     },
     "metadata": {},
     "output_type": "display_data"
    }
   ],
   "source": [
    "satisfaction.plot.bar(cmap='tab20')\n",
    "plt.legend(loc='lower right', bbox_to_anchor=(1.8, 0.0))\n",
    "plt.title('Change of satisfaction from 2017 to 2018')\n",
    "plt.xlabel('Survey year')\n",
    "plt.ylabel('Satisfaction (min:0.0, max:1.0)')\n",
    "plt.show()"
   ]
  },
  {
   "cell_type": "code",
   "execution_count": 37,
   "metadata": {},
   "outputs": [
    {
     "data": {
      "image/png": "[encoded data removed]",
      "text/plain": [
       "<Figure size 432x288 with 1 Axes>"
      ]
     },
     "metadata": {},
     "output_type": "display_data"
    }
   ],
   "source": [
    "satisfaction_diff.plot.barh(legend=False, color='grey')\n",
    "plt.title('Difference of satisfaction from 2017 to 2018')\n",
    "plt.xlabel('Difference')\n",
    "plt.show()"
   ]
  },
  {
   "cell_type": "markdown",
   "metadata": {},
   "source": [
    "### Answer 3: How are difference data scientist and database administrator salary at 2018?\n",
    "\n",
    "Data Scientist annual salary is increased from 2017 to 2018.\n",
    "- Median of job satisfaction: 2017 has 60000, 2018 has 80000\n",
    "- Difference of median of job satisfaction from 2017 to 2018: +20000\n",
    "\n",
    "Checking for atabase administrator annual salary as a comparison.\n",
    "- Median of job satisfaction: 2017 has 53763, 2018 has 75000\n",
    "- Difference of median of job satisfaction from 2017 to 2018: +21237\n",
    "\n",
    "Data Scientist salary is incresed from 2017 to 2018. However, comparing with database administrator salary, increase amount is small. Though data scientist salary at each years is greater than database administrator salary."
   ]
  },
  {
   "cell_type": "code",
   "execution_count": 38,
   "metadata": {},
   "outputs": [
    {
     "data": {
      "image/png": "[encoded data removed]",
      "text/plain": [
       "<Figure size 576x432 with 2 Axes>"
      ]
     },
     "metadata": {},
     "output_type": "display_data"
    }
   ],
   "source": [
    "plt.figure(figsize=(8, 6))\n",
    "plt.subplots_adjust(hspace=0.3)\n",
    "\n",
    "ax = plt.subplot(2, 1, 1)\n",
    "df_2017[data_scientist_2017]['Salary'].hist(bins=30)\n",
    "plt.title('Histgram of job satisfaction at 2017')\n",
    "plt.ylabel('Frequency')\n",
    "\n",
    "plt.subplot(2, 1, 2, sharex=ax)\n",
    "df_2018[data_scientist_2018]['Salary'].hist(bins=30)\n",
    "plt.title('Histgram of job satisfaction at 2018')\n",
    "plt.xlabel('Job satisfaction')\n",
    "plt.ylabel('Frequency')\n",
    "\n",
    "plt.show()"
   ]
  },
  {
   "cell_type": "code",
   "execution_count": 39,
   "metadata": {},
   "outputs": [
    {
     "data": {
      "image/png": "[encoded data removed]",
      "text/plain": [
       "<Figure size 576x432 with 2 Axes>"
      ]
     },
     "metadata": {},
     "output_type": "display_data"
    }
   ],
   "source": [
    "plt.figure(figsize=(8, 6))\n",
    "plt.subplots_adjust(hspace=0.3)\n",
    "\n",
    "ax = plt.subplot(2, 1, 1)\n",
    "df_2017[database_administrator_2017]['Salary'].hist(bins=30)\n",
    "plt.title('Histgram of job satisfaction at 2017')\n",
    "plt.ylabel('Frequency')\n",
    "\n",
    "plt.subplot(2, 1, 2, sharex=ax)\n",
    "df_2018[database_administrator_2018]['Salary'].hist(bins=30)\n",
    "plt.title('Histgram of job satisfaction at 2018')\n",
    "plt.xlabel('Job satisfaction')\n",
    "plt.ylabel('Frequency')\n",
    "\n",
    "plt.show()"
   ]
  },
  {
   "cell_type": "code",
   "execution_count": 40,
   "metadata": {},
   "outputs": [],
   "source": [
    "salary = pd.DataFrame({\n",
    "     'Data scientist or Machine learning specialist': [\n",
    "        df_2017[data_scientist_2017]['Salary'].median(),\n",
    "        df_2018[data_scientist_2018]['Salary'].median()\n",
    "    ],\n",
    "    'Database administrator': [\n",
    "        df_2017[database_administrator_2017]['Salary'].median(),\n",
    "        df_2018[database_administrator_2018]['Salary'].median()\n",
    "    ]\n",
    "})\n",
    "\n",
    "salary_diff = pd.DataFrame({\n",
    "    'Difference': [\n",
    "        df_2018[database_administrator_2018]['Salary'].median()\n",
    "            - df_2017[database_administrator_2017]['Salary'].median(),\n",
    "        df_2018[data_scientist_2018]['Salary'].median()\n",
    "            - df_2017[data_scientist_2017]['Salary'].median()\n",
    "    ]\n",
    "})\n",
    "\n",
    "salary.index = ['2017', '2018']\n",
    "salary_diff.index = ['Database administrator', 'Data scientist\\nor Machine learning specialist']"
   ]
  },
  {
   "cell_type": "code",
   "execution_count": 41,
   "metadata": {
    "scrolled": true
   },
   "outputs": [
    {
     "data": {
      "image/png": "[encoded data removed]",
      "text/plain": [
       "<Figure size 432x288 with 1 Axes>"
      ]
     },
     "metadata": {},
     "output_type": "display_data"
    }
   ],
   "source": [
    "salary.plot.bar(cmap='tab20')\n",
    "plt.legend(loc='lower right', bbox_to_anchor=(1.8, 0.0))\n",
    "plt.title('Change of median of salary from 2017 to 2018')\n",
    "plt.xlabel('Survey year')\n",
    "plt.ylabel('Anual Salary')\n",
    "plt.show()"
   ]
  },
  {
   "cell_type": "code",
   "execution_count": 42,
   "metadata": {},
   "outputs": [
    {
     "data": {
      "image/png": "[encoded data removed]",
      "text/plain": [
       "<Figure size 432x288 with 1 Axes>"
      ]
     },
     "metadata": {},
     "output_type": "display_data"
    }
   ],
   "source": [
    "salary_diff.plot.barh(legend=False, color='grey')\n",
    "plt.title('Difference of median of salary from 2017 to 2018')\n",
    "plt.xlabel('Difference')\n",
    "plt.show()"
   ]
  },
  {
   "cell_type": "markdown",
   "metadata": {},
   "source": [
    "## Conclusion\n",
    "\n",
    "As a result, just because it is said data scientist is important, specific improvement for environment surrounding them was not seen from 2017 to 2018. Even though annual salary of data scientist is greater than the salary of database administrator, actually improvement for database administrator job satisfaction is greater than data scientist job satisfaction.\n",
    "\n",
    "Looking at database administrator proportion and job satisfaction, it is better to become database administrator. Because a number of the developers is more increased (maybe it is that demand for them is also increased) and their satisfaction is also high as the same as data scientist. But I want to be great data scientist because I like gradient boosting, monte carlo simulation or money!"
   ]
  },
  {
   "cell_type": "markdown",
   "metadata": {},
   "source": [
    "## Appendix\n",
    "\n",
    "In addition, I applied salary of two at 2018 to significant test by using Mann-Whitney U test. As a result, the difference between data scientist median of salary at 2018 (80000) and database administrator median of salary (75000) is significant under significance level of 5%."
   ]
  },
  {
   "cell_type": "code",
   "execution_count": 43,
   "metadata": {},
   "outputs": [],
   "source": [
    "def significant_test(df_1, df_2, column):\n",
    "    x = df_1[~df_1[column].isnull()][column]\n",
    "    y = df_2[~df_2[column].isnull()][column]\n",
    "\n",
    "    satistic, pvalue = stats.mannwhitneyu(x, y, alternative='two-sided')\n",
    "\n",
    "    print(\"Mannwhitney U test\")\n",
    "    print(\"---------------------------------------------------------------------------\")\n",
    "    print(\"Data scineintist median of salary: {:.1f}\".format(x.median()))\n",
    "    print(\"Database administrator median of salary: {:.1f}\".format(y.median()))\n",
    "    print(\"---------------------------------------------------------------------------\")\n",
    "    print(\"P-value: {:.4f}\".format(pvalue))\n",
    "\n",
    "    if pvalue <= 0.05:\n",
    "        significant = True\n",
    "    else:\n",
    "        significant = False\n",
    "\n",
    "    print(\"Statistical significant is \" + str(significant) + \" under significance level of 5%\")"
   ]
  },
  {
   "cell_type": "code",
   "execution_count": 44,
   "metadata": {
    "scrolled": true
   },
   "outputs": [
    {
     "name": "stdout",
     "output_type": "stream",
     "text": [
      "Mannwhitney U test\n",
      "---------------------------------------------------------------------------\n",
      "Data scineintist median of salary: 80000.0\n",
      "Database administrator median of salary: 75000.0\n",
      "---------------------------------------------------------------------------\n",
      "P-value: 0.0042\n",
      "Statistical significant is True under significance level of 5%\n"
     ]
    }
   ],
   "source": [
    "significant_test(df_2018[data_scientist_2018], df_2018[database_administrator_2018], 'Salary')"
   ]
  }
 ],
 "metadata": {
  "kernelspec": {
   "display_name": "Python 3",
   "language": "python",
   "name": "python3"
  },
  "language_info": {
   "codemirror_mode": {
    "name": "ipython",
    "version": 3
   },
   "file_extension": ".py",
   "mimetype": "text/x-python",
   "name": "python",
   "nbconvert_exporter": "python",
   "pygments_lexer": "ipython3",
   "version": "3.6.5"
  }
 },
 "nbformat": 4,
 "nbformat_minor": 2
}
